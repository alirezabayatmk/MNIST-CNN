{
  "nbformat": 4,
  "nbformat_minor": 0,
  "metadata": {
    "colab": {
      "name": "mnist.ipynb",
      "version": "0.3.2",
      "provenance": [],
      "include_colab_link": true
    },
    "kernelspec": {
      "name": "python3",
      "display_name": "Python 3"
    }
  },
  "cells": [
    {
      "cell_type": "markdown",
      "metadata": {
        "id": "view-in-github",
        "colab_type": "text"
      },
      "source": [
        "<a href=\"https://colab.research.google.com/github/alirezabayatmk/MNIST-CNN/blob/master/mnist.ipynb\" target=\"_parent\"><img src=\"https://colab.research.google.com/assets/colab-badge.svg\" alt=\"Open In Colab\"/></a>"
      ]
    },
    {
      "cell_type": "code",
      "metadata": {
        "id": "66D0nbw2UvOm",
        "colab_type": "code",
        "outputId": "f4b32bf5-f985-4f90-8545-85a95e8853b5",
        "colab": {
          "base_uri": "https://localhost:8080/",
          "height": 35
        }
      },
      "source": [
        "import pandas as pd\n",
        "import numpy as np\n",
        "import itertools\n",
        "\n",
        "import matplotlib.pyplot as plt\n",
        "import matplotlib.image as mpimg\n",
        "import seaborn as sns\n",
        "%matplotlib inline\n",
        "sns.set(style='white', context='notebook', palette='deep')\n",
        "\n",
        "from sklearn.model_selection import train_test_split\n",
        "from sklearn.metrics import confusion_matrix\n",
        "\n",
        "from keras.utils.np_utils import to_categorical\n",
        "from keras.models import Sequential\n",
        "from keras.layers import Dense, Dropout, Flatten, Conv2D, MaxPool2D\n",
        "from keras import optimizers\n",
        "from keras.preprocessing.image import ImageDataGenerator\n",
        "from keras.callbacks import LearningRateScheduler\n",
        "from keras import models\n",
        "\n",
        "np.random.seed(2)"
      ],
      "execution_count": 0,
      "outputs": [
        {
          "output_type": "stream",
          "text": [
            "Using TensorFlow backend.\n"
          ],
          "name": "stderr"
        }
      ]
    },
    {
      "cell_type": "code",
      "metadata": {
        "id": "OgxCk-7_36u7",
        "colab_type": "code",
        "outputId": "90c133d2-310a-49fd-e283-48080331b2d7",
        "colab": {
          "base_uri": "https://localhost:8080/",
          "height": 52
        }
      },
      "source": [
        "!pip install -U -q PyDrive\n",
        "from pydrive.auth import GoogleAuth\n",
        "from pydrive.drive import GoogleDrive\n",
        "from google.colab import auth,files\n",
        "from oauth2client.client import GoogleCredentials\n",
        "# Authenticate and create the PyDrive client.\n",
        "auth.authenticate_user()\n",
        "gauth = GoogleAuth()\n",
        "gauth.credentials = GoogleCredentials.get_application_default()\n",
        "drive = GoogleDrive(gauth)"
      ],
      "execution_count": 0,
      "outputs": [
        {
          "output_type": "stream",
          "text": [
            "\u001b[?25l\r\u001b[K     |▎                               | 10kB 19.5MB/s eta 0:00:01\r\u001b[K     |▋                               | 20kB 1.9MB/s eta 0:00:01\r\u001b[K     |█                               | 30kB 2.7MB/s eta 0:00:01\r\u001b[K     |█▎                              | 40kB 1.5MB/s eta 0:00:01\r\u001b[K     |█▋                              | 51kB 1.9MB/s eta 0:00:01\r\u001b[K     |██                              | 61kB 2.3MB/s eta 0:00:01\r\u001b[K     |██▎                             | 71kB 2.6MB/s eta 0:00:01\r\u001b[K     |██▋                             | 81kB 3.0MB/s eta 0:00:01\r\u001b[K     |███                             | 92kB 3.3MB/s eta 0:00:01\r\u001b[K     |███▎                            | 102kB 2.6MB/s eta 0:00:01\r\u001b[K     |███▋                            | 112kB 2.6MB/s eta 0:00:01\r\u001b[K     |████                            | 122kB 2.6MB/s eta 0:00:01\r\u001b[K     |████▎                           | 133kB 2.6MB/s eta 0:00:01\r\u001b[K     |████▋                           | 143kB 2.6MB/s eta 0:00:01\r\u001b[K     |█████                           | 153kB 2.6MB/s eta 0:00:01\r\u001b[K     |█████▎                          | 163kB 2.6MB/s eta 0:00:01\r\u001b[K     |█████▋                          | 174kB 2.6MB/s eta 0:00:01\r\u001b[K     |██████                          | 184kB 2.6MB/s eta 0:00:01\r\u001b[K     |██████▎                         | 194kB 2.6MB/s eta 0:00:01\r\u001b[K     |██████▋                         | 204kB 2.6MB/s eta 0:00:01\r\u001b[K     |███████                         | 215kB 2.6MB/s eta 0:00:01\r\u001b[K     |███████▎                        | 225kB 2.6MB/s eta 0:00:01\r\u001b[K     |███████▋                        | 235kB 2.6MB/s eta 0:00:01\r\u001b[K     |████████                        | 245kB 2.6MB/s eta 0:00:01\r\u001b[K     |████████▎                       | 256kB 2.6MB/s eta 0:00:01\r\u001b[K     |████████▋                       | 266kB 2.6MB/s eta 0:00:01\r\u001b[K     |█████████                       | 276kB 2.6MB/s eta 0:00:01\r\u001b[K     |█████████▎                      | 286kB 2.6MB/s eta 0:00:01\r\u001b[K     |█████████▋                      | 296kB 2.6MB/s eta 0:00:01\r\u001b[K     |██████████                      | 307kB 2.6MB/s eta 0:00:01\r\u001b[K     |██████████▎                     | 317kB 2.6MB/s eta 0:00:01\r\u001b[K     |██████████▋                     | 327kB 2.6MB/s eta 0:00:01\r\u001b[K     |███████████                     | 337kB 2.6MB/s eta 0:00:01\r\u001b[K     |███████████▎                    | 348kB 2.6MB/s eta 0:00:01\r\u001b[K     |███████████▋                    | 358kB 2.6MB/s eta 0:00:01\r\u001b[K     |████████████                    | 368kB 2.6MB/s eta 0:00:01\r\u001b[K     |████████████▎                   | 378kB 2.6MB/s eta 0:00:01\r\u001b[K     |████████████▋                   | 389kB 2.6MB/s eta 0:00:01\r\u001b[K     |█████████████                   | 399kB 2.6MB/s eta 0:00:01\r\u001b[K     |█████████████▎                  | 409kB 2.6MB/s eta 0:00:01\r\u001b[K     |█████████████▋                  | 419kB 2.6MB/s eta 0:00:01\r\u001b[K     |██████████████                  | 430kB 2.6MB/s eta 0:00:01\r\u001b[K     |██████████████▎                 | 440kB 2.6MB/s eta 0:00:01\r\u001b[K     |██████████████▋                 | 450kB 2.6MB/s eta 0:00:01\r\u001b[K     |███████████████                 | 460kB 2.6MB/s eta 0:00:01\r\u001b[K     |███████████████▎                | 471kB 2.6MB/s eta 0:00:01\r\u001b[K     |███████████████▋                | 481kB 2.6MB/s eta 0:00:01\r\u001b[K     |████████████████                | 491kB 2.6MB/s eta 0:00:01\r\u001b[K     |████████████████▎               | 501kB 2.6MB/s eta 0:00:01\r\u001b[K     |████████████████▋               | 512kB 2.6MB/s eta 0:00:01\r\u001b[K     |█████████████████               | 522kB 2.6MB/s eta 0:00:01\r\u001b[K     |█████████████████▎              | 532kB 2.6MB/s eta 0:00:01\r\u001b[K     |█████████████████▋              | 542kB 2.6MB/s eta 0:00:01\r\u001b[K     |██████████████████              | 552kB 2.6MB/s eta 0:00:01\r\u001b[K     |██████████████████▎             | 563kB 2.6MB/s eta 0:00:01\r\u001b[K     |██████████████████▋             | 573kB 2.6MB/s eta 0:00:01\r\u001b[K     |███████████████████             | 583kB 2.6MB/s eta 0:00:01\r\u001b[K     |███████████████████▎            | 593kB 2.6MB/s eta 0:00:01\r\u001b[K     |███████████████████▋            | 604kB 2.6MB/s eta 0:00:01\r\u001b[K     |████████████████████            | 614kB 2.6MB/s eta 0:00:01\r\u001b[K     |████████████████████▎           | 624kB 2.6MB/s eta 0:00:01\r\u001b[K     |████████████████████▋           | 634kB 2.6MB/s eta 0:00:01\r\u001b[K     |█████████████████████           | 645kB 2.6MB/s eta 0:00:01\r\u001b[K     |█████████████████████▎          | 655kB 2.6MB/s eta 0:00:01\r\u001b[K     |█████████████████████▋          | 665kB 2.6MB/s eta 0:00:01\r\u001b[K     |██████████████████████          | 675kB 2.6MB/s eta 0:00:01\r\u001b[K     |██████████████████████▎         | 686kB 2.6MB/s eta 0:00:01\r\u001b[K     |██████████████████████▋         | 696kB 2.6MB/s eta 0:00:01\r\u001b[K     |███████████████████████         | 706kB 2.6MB/s eta 0:00:01\r\u001b[K     |███████████████████████▎        | 716kB 2.6MB/s eta 0:00:01\r\u001b[K     |███████████████████████▋        | 727kB 2.6MB/s eta 0:00:01\r\u001b[K     |████████████████████████        | 737kB 2.6MB/s eta 0:00:01\r\u001b[K     |████████████████████████▎       | 747kB 2.6MB/s eta 0:00:01\r\u001b[K     |████████████████████████▋       | 757kB 2.6MB/s eta 0:00:01\r\u001b[K     |████████████████████████▉       | 768kB 2.6MB/s eta 0:00:01\r\u001b[K     |█████████████████████████▏      | 778kB 2.6MB/s eta 0:00:01\r\u001b[K     |█████████████████████████▌      | 788kB 2.6MB/s eta 0:00:01\r\u001b[K     |█████████████████████████▉      | 798kB 2.6MB/s eta 0:00:01\r\u001b[K     |██████████████████████████▏     | 808kB 2.6MB/s eta 0:00:01\r\u001b[K     |██████████████████████████▌     | 819kB 2.6MB/s eta 0:00:01\r\u001b[K     |██████████████████████████▉     | 829kB 2.6MB/s eta 0:00:01\r\u001b[K     |███████████████████████████▏    | 839kB 2.6MB/s eta 0:00:01\r\u001b[K     |███████████████████████████▌    | 849kB 2.6MB/s eta 0:00:01\r\u001b[K     |███████████████████████████▉    | 860kB 2.6MB/s eta 0:00:01\r\u001b[K     |████████████████████████████▏   | 870kB 2.6MB/s eta 0:00:01\r\u001b[K     |████████████████████████████▌   | 880kB 2.6MB/s eta 0:00:01\r\u001b[K     |████████████████████████████▉   | 890kB 2.6MB/s eta 0:00:01\r\u001b[K     |█████████████████████████████▏  | 901kB 2.6MB/s eta 0:00:01\r\u001b[K     |█████████████████████████████▌  | 911kB 2.6MB/s eta 0:00:01\r\u001b[K     |█████████████████████████████▉  | 921kB 2.6MB/s eta 0:00:01\r\u001b[K     |██████████████████████████████▏ | 931kB 2.6MB/s eta 0:00:01\r\u001b[K     |██████████████████████████████▌ | 942kB 2.6MB/s eta 0:00:01\r\u001b[K     |██████████████████████████████▉ | 952kB 2.6MB/s eta 0:00:01\r\u001b[K     |███████████████████████████████▏| 962kB 2.6MB/s eta 0:00:01\r\u001b[K     |███████████████████████████████▌| 972kB 2.6MB/s eta 0:00:01\r\u001b[K     |███████████████████████████████▉| 983kB 2.6MB/s eta 0:00:01\r\u001b[K     |████████████████████████████████| 993kB 2.6MB/s \n",
            "\u001b[?25h  Building wheel for PyDrive (setup.py) ... \u001b[?25l\u001b[?25hdone\n"
          ],
          "name": "stdout"
        }
      ]
    },
    {
      "cell_type": "code",
      "metadata": {
        "id": "rZywqx5CmEM8",
        "colab_type": "code",
        "outputId": "c05b9b70-a206-42c9-b2bd-498a6280495f",
        "colab": {
          "base_uri": "https://localhost:8080/",
          "height": 35
        }
      },
      "source": [
        "link = 'https://drive.google.com/open?id=1ISfDAlCFOlZYTMs9ZUxW-PXs5bGigJSk'\n",
        "fluff, id = link.split('=')\n",
        "print (id) \n",
        "downloaded = drive.CreateFile({'id':id}) \n",
        "downloaded.GetContentFile('mnist_train.csv')  \n",
        "train = pd.read_csv('mnist_train.csv')"
      ],
      "execution_count": 0,
      "outputs": [
        {
          "output_type": "stream",
          "text": [
            "1ISfDAlCFOlZYTMs9ZUxW-PXs5bGigJSk\n"
          ],
          "name": "stdout"
        }
      ]
    },
    {
      "cell_type": "code",
      "metadata": {
        "id": "5gWo3e0_vW-Z",
        "colab_type": "code",
        "outputId": "5412e5dc-4265-42fc-dae6-300246b92145",
        "colab": {
          "base_uri": "https://localhost:8080/",
          "height": 252
        }
      },
      "source": [
        "train.head(5)"
      ],
      "execution_count": 0,
      "outputs": [
        {
          "output_type": "execute_result",
          "data": {
            "text/html": [
              "<div>\n",
              "<style scoped>\n",
              "    .dataframe tbody tr th:only-of-type {\n",
              "        vertical-align: middle;\n",
              "    }\n",
              "\n",
              "    .dataframe tbody tr th {\n",
              "        vertical-align: top;\n",
              "    }\n",
              "\n",
              "    .dataframe thead th {\n",
              "        text-align: right;\n",
              "    }\n",
              "</style>\n",
              "<table border=\"1\" class=\"dataframe\">\n",
              "  <thead>\n",
              "    <tr style=\"text-align: right;\">\n",
              "      <th></th>\n",
              "      <th>label</th>\n",
              "      <th>1x1</th>\n",
              "      <th>1x2</th>\n",
              "      <th>1x3</th>\n",
              "      <th>1x4</th>\n",
              "      <th>1x5</th>\n",
              "      <th>1x6</th>\n",
              "      <th>1x7</th>\n",
              "      <th>1x8</th>\n",
              "      <th>1x9</th>\n",
              "      <th>1x10</th>\n",
              "      <th>1x11</th>\n",
              "      <th>1x12</th>\n",
              "      <th>1x13</th>\n",
              "      <th>1x14</th>\n",
              "      <th>1x15</th>\n",
              "      <th>1x16</th>\n",
              "      <th>1x17</th>\n",
              "      <th>1x18</th>\n",
              "      <th>1x19</th>\n",
              "      <th>1x20</th>\n",
              "      <th>1x21</th>\n",
              "      <th>1x22</th>\n",
              "      <th>1x23</th>\n",
              "      <th>1x24</th>\n",
              "      <th>1x25</th>\n",
              "      <th>1x26</th>\n",
              "      <th>1x27</th>\n",
              "      <th>1x28</th>\n",
              "      <th>2x1</th>\n",
              "      <th>2x2</th>\n",
              "      <th>2x3</th>\n",
              "      <th>2x4</th>\n",
              "      <th>2x5</th>\n",
              "      <th>2x6</th>\n",
              "      <th>2x7</th>\n",
              "      <th>2x8</th>\n",
              "      <th>2x9</th>\n",
              "      <th>2x10</th>\n",
              "      <th>2x11</th>\n",
              "      <th>...</th>\n",
              "      <th>27x17</th>\n",
              "      <th>27x18</th>\n",
              "      <th>27x19</th>\n",
              "      <th>27x20</th>\n",
              "      <th>27x21</th>\n",
              "      <th>27x22</th>\n",
              "      <th>27x23</th>\n",
              "      <th>27x24</th>\n",
              "      <th>27x25</th>\n",
              "      <th>27x26</th>\n",
              "      <th>27x27</th>\n",
              "      <th>27x28</th>\n",
              "      <th>28x1</th>\n",
              "      <th>28x2</th>\n",
              "      <th>28x3</th>\n",
              "      <th>28x4</th>\n",
              "      <th>28x5</th>\n",
              "      <th>28x6</th>\n",
              "      <th>28x7</th>\n",
              "      <th>28x8</th>\n",
              "      <th>28x9</th>\n",
              "      <th>28x10</th>\n",
              "      <th>28x11</th>\n",
              "      <th>28x12</th>\n",
              "      <th>28x13</th>\n",
              "      <th>28x14</th>\n",
              "      <th>28x15</th>\n",
              "      <th>28x16</th>\n",
              "      <th>28x17</th>\n",
              "      <th>28x18</th>\n",
              "      <th>28x19</th>\n",
              "      <th>28x20</th>\n",
              "      <th>28x21</th>\n",
              "      <th>28x22</th>\n",
              "      <th>28x23</th>\n",
              "      <th>28x24</th>\n",
              "      <th>28x25</th>\n",
              "      <th>28x26</th>\n",
              "      <th>28x27</th>\n",
              "      <th>28x28</th>\n",
              "    </tr>\n",
              "  </thead>\n",
              "  <tbody>\n",
              "    <tr>\n",
              "      <th>0</th>\n",
              "      <td>5</td>\n",
              "      <td>0</td>\n",
              "      <td>0</td>\n",
              "      <td>0</td>\n",
              "      <td>0</td>\n",
              "      <td>0</td>\n",
              "      <td>0</td>\n",
              "      <td>0</td>\n",
              "      <td>0</td>\n",
              "      <td>0</td>\n",
              "      <td>0</td>\n",
              "      <td>0</td>\n",
              "      <td>0</td>\n",
              "      <td>0</td>\n",
              "      <td>0</td>\n",
              "      <td>0</td>\n",
              "      <td>0</td>\n",
              "      <td>0</td>\n",
              "      <td>0</td>\n",
              "      <td>0</td>\n",
              "      <td>0</td>\n",
              "      <td>0</td>\n",
              "      <td>0</td>\n",
              "      <td>0</td>\n",
              "      <td>0</td>\n",
              "      <td>0</td>\n",
              "      <td>0</td>\n",
              "      <td>0</td>\n",
              "      <td>0</td>\n",
              "      <td>0</td>\n",
              "      <td>0</td>\n",
              "      <td>0</td>\n",
              "      <td>0</td>\n",
              "      <td>0</td>\n",
              "      <td>0</td>\n",
              "      <td>0</td>\n",
              "      <td>0</td>\n",
              "      <td>0</td>\n",
              "      <td>0</td>\n",
              "      <td>0</td>\n",
              "      <td>...</td>\n",
              "      <td>0</td>\n",
              "      <td>0</td>\n",
              "      <td>0</td>\n",
              "      <td>0</td>\n",
              "      <td>0</td>\n",
              "      <td>0</td>\n",
              "      <td>0</td>\n",
              "      <td>0</td>\n",
              "      <td>0</td>\n",
              "      <td>0</td>\n",
              "      <td>0</td>\n",
              "      <td>0</td>\n",
              "      <td>0</td>\n",
              "      <td>0</td>\n",
              "      <td>0</td>\n",
              "      <td>0</td>\n",
              "      <td>0</td>\n",
              "      <td>0</td>\n",
              "      <td>0</td>\n",
              "      <td>0</td>\n",
              "      <td>0</td>\n",
              "      <td>0</td>\n",
              "      <td>0</td>\n",
              "      <td>0</td>\n",
              "      <td>0</td>\n",
              "      <td>0</td>\n",
              "      <td>0</td>\n",
              "      <td>0</td>\n",
              "      <td>0</td>\n",
              "      <td>0</td>\n",
              "      <td>0</td>\n",
              "      <td>0</td>\n",
              "      <td>0</td>\n",
              "      <td>0</td>\n",
              "      <td>0</td>\n",
              "      <td>0</td>\n",
              "      <td>0</td>\n",
              "      <td>0</td>\n",
              "      <td>0</td>\n",
              "      <td>0</td>\n",
              "    </tr>\n",
              "    <tr>\n",
              "      <th>1</th>\n",
              "      <td>0</td>\n",
              "      <td>0</td>\n",
              "      <td>0</td>\n",
              "      <td>0</td>\n",
              "      <td>0</td>\n",
              "      <td>0</td>\n",
              "      <td>0</td>\n",
              "      <td>0</td>\n",
              "      <td>0</td>\n",
              "      <td>0</td>\n",
              "      <td>0</td>\n",
              "      <td>0</td>\n",
              "      <td>0</td>\n",
              "      <td>0</td>\n",
              "      <td>0</td>\n",
              "      <td>0</td>\n",
              "      <td>0</td>\n",
              "      <td>0</td>\n",
              "      <td>0</td>\n",
              "      <td>0</td>\n",
              "      <td>0</td>\n",
              "      <td>0</td>\n",
              "      <td>0</td>\n",
              "      <td>0</td>\n",
              "      <td>0</td>\n",
              "      <td>0</td>\n",
              "      <td>0</td>\n",
              "      <td>0</td>\n",
              "      <td>0</td>\n",
              "      <td>0</td>\n",
              "      <td>0</td>\n",
              "      <td>0</td>\n",
              "      <td>0</td>\n",
              "      <td>0</td>\n",
              "      <td>0</td>\n",
              "      <td>0</td>\n",
              "      <td>0</td>\n",
              "      <td>0</td>\n",
              "      <td>0</td>\n",
              "      <td>0</td>\n",
              "      <td>...</td>\n",
              "      <td>0</td>\n",
              "      <td>0</td>\n",
              "      <td>0</td>\n",
              "      <td>0</td>\n",
              "      <td>0</td>\n",
              "      <td>0</td>\n",
              "      <td>0</td>\n",
              "      <td>0</td>\n",
              "      <td>0</td>\n",
              "      <td>0</td>\n",
              "      <td>0</td>\n",
              "      <td>0</td>\n",
              "      <td>0</td>\n",
              "      <td>0</td>\n",
              "      <td>0</td>\n",
              "      <td>0</td>\n",
              "      <td>0</td>\n",
              "      <td>0</td>\n",
              "      <td>0</td>\n",
              "      <td>0</td>\n",
              "      <td>0</td>\n",
              "      <td>0</td>\n",
              "      <td>0</td>\n",
              "      <td>0</td>\n",
              "      <td>0</td>\n",
              "      <td>0</td>\n",
              "      <td>0</td>\n",
              "      <td>0</td>\n",
              "      <td>0</td>\n",
              "      <td>0</td>\n",
              "      <td>0</td>\n",
              "      <td>0</td>\n",
              "      <td>0</td>\n",
              "      <td>0</td>\n",
              "      <td>0</td>\n",
              "      <td>0</td>\n",
              "      <td>0</td>\n",
              "      <td>0</td>\n",
              "      <td>0</td>\n",
              "      <td>0</td>\n",
              "    </tr>\n",
              "    <tr>\n",
              "      <th>2</th>\n",
              "      <td>4</td>\n",
              "      <td>0</td>\n",
              "      <td>0</td>\n",
              "      <td>0</td>\n",
              "      <td>0</td>\n",
              "      <td>0</td>\n",
              "      <td>0</td>\n",
              "      <td>0</td>\n",
              "      <td>0</td>\n",
              "      <td>0</td>\n",
              "      <td>0</td>\n",
              "      <td>0</td>\n",
              "      <td>0</td>\n",
              "      <td>0</td>\n",
              "      <td>0</td>\n",
              "      <td>0</td>\n",
              "      <td>0</td>\n",
              "      <td>0</td>\n",
              "      <td>0</td>\n",
              "      <td>0</td>\n",
              "      <td>0</td>\n",
              "      <td>0</td>\n",
              "      <td>0</td>\n",
              "      <td>0</td>\n",
              "      <td>0</td>\n",
              "      <td>0</td>\n",
              "      <td>0</td>\n",
              "      <td>0</td>\n",
              "      <td>0</td>\n",
              "      <td>0</td>\n",
              "      <td>0</td>\n",
              "      <td>0</td>\n",
              "      <td>0</td>\n",
              "      <td>0</td>\n",
              "      <td>0</td>\n",
              "      <td>0</td>\n",
              "      <td>0</td>\n",
              "      <td>0</td>\n",
              "      <td>0</td>\n",
              "      <td>0</td>\n",
              "      <td>...</td>\n",
              "      <td>0</td>\n",
              "      <td>0</td>\n",
              "      <td>0</td>\n",
              "      <td>0</td>\n",
              "      <td>0</td>\n",
              "      <td>0</td>\n",
              "      <td>0</td>\n",
              "      <td>0</td>\n",
              "      <td>0</td>\n",
              "      <td>0</td>\n",
              "      <td>0</td>\n",
              "      <td>0</td>\n",
              "      <td>0</td>\n",
              "      <td>0</td>\n",
              "      <td>0</td>\n",
              "      <td>0</td>\n",
              "      <td>0</td>\n",
              "      <td>0</td>\n",
              "      <td>0</td>\n",
              "      <td>0</td>\n",
              "      <td>0</td>\n",
              "      <td>0</td>\n",
              "      <td>0</td>\n",
              "      <td>0</td>\n",
              "      <td>0</td>\n",
              "      <td>0</td>\n",
              "      <td>0</td>\n",
              "      <td>0</td>\n",
              "      <td>0</td>\n",
              "      <td>0</td>\n",
              "      <td>0</td>\n",
              "      <td>0</td>\n",
              "      <td>0</td>\n",
              "      <td>0</td>\n",
              "      <td>0</td>\n",
              "      <td>0</td>\n",
              "      <td>0</td>\n",
              "      <td>0</td>\n",
              "      <td>0</td>\n",
              "      <td>0</td>\n",
              "    </tr>\n",
              "    <tr>\n",
              "      <th>3</th>\n",
              "      <td>1</td>\n",
              "      <td>0</td>\n",
              "      <td>0</td>\n",
              "      <td>0</td>\n",
              "      <td>0</td>\n",
              "      <td>0</td>\n",
              "      <td>0</td>\n",
              "      <td>0</td>\n",
              "      <td>0</td>\n",
              "      <td>0</td>\n",
              "      <td>0</td>\n",
              "      <td>0</td>\n",
              "      <td>0</td>\n",
              "      <td>0</td>\n",
              "      <td>0</td>\n",
              "      <td>0</td>\n",
              "      <td>0</td>\n",
              "      <td>0</td>\n",
              "      <td>0</td>\n",
              "      <td>0</td>\n",
              "      <td>0</td>\n",
              "      <td>0</td>\n",
              "      <td>0</td>\n",
              "      <td>0</td>\n",
              "      <td>0</td>\n",
              "      <td>0</td>\n",
              "      <td>0</td>\n",
              "      <td>0</td>\n",
              "      <td>0</td>\n",
              "      <td>0</td>\n",
              "      <td>0</td>\n",
              "      <td>0</td>\n",
              "      <td>0</td>\n",
              "      <td>0</td>\n",
              "      <td>0</td>\n",
              "      <td>0</td>\n",
              "      <td>0</td>\n",
              "      <td>0</td>\n",
              "      <td>0</td>\n",
              "      <td>0</td>\n",
              "      <td>...</td>\n",
              "      <td>0</td>\n",
              "      <td>0</td>\n",
              "      <td>0</td>\n",
              "      <td>0</td>\n",
              "      <td>0</td>\n",
              "      <td>0</td>\n",
              "      <td>0</td>\n",
              "      <td>0</td>\n",
              "      <td>0</td>\n",
              "      <td>0</td>\n",
              "      <td>0</td>\n",
              "      <td>0</td>\n",
              "      <td>0</td>\n",
              "      <td>0</td>\n",
              "      <td>0</td>\n",
              "      <td>0</td>\n",
              "      <td>0</td>\n",
              "      <td>0</td>\n",
              "      <td>0</td>\n",
              "      <td>0</td>\n",
              "      <td>0</td>\n",
              "      <td>0</td>\n",
              "      <td>0</td>\n",
              "      <td>0</td>\n",
              "      <td>0</td>\n",
              "      <td>0</td>\n",
              "      <td>0</td>\n",
              "      <td>0</td>\n",
              "      <td>0</td>\n",
              "      <td>0</td>\n",
              "      <td>0</td>\n",
              "      <td>0</td>\n",
              "      <td>0</td>\n",
              "      <td>0</td>\n",
              "      <td>0</td>\n",
              "      <td>0</td>\n",
              "      <td>0</td>\n",
              "      <td>0</td>\n",
              "      <td>0</td>\n",
              "      <td>0</td>\n",
              "    </tr>\n",
              "    <tr>\n",
              "      <th>4</th>\n",
              "      <td>9</td>\n",
              "      <td>0</td>\n",
              "      <td>0</td>\n",
              "      <td>0</td>\n",
              "      <td>0</td>\n",
              "      <td>0</td>\n",
              "      <td>0</td>\n",
              "      <td>0</td>\n",
              "      <td>0</td>\n",
              "      <td>0</td>\n",
              "      <td>0</td>\n",
              "      <td>0</td>\n",
              "      <td>0</td>\n",
              "      <td>0</td>\n",
              "      <td>0</td>\n",
              "      <td>0</td>\n",
              "      <td>0</td>\n",
              "      <td>0</td>\n",
              "      <td>0</td>\n",
              "      <td>0</td>\n",
              "      <td>0</td>\n",
              "      <td>0</td>\n",
              "      <td>0</td>\n",
              "      <td>0</td>\n",
              "      <td>0</td>\n",
              "      <td>0</td>\n",
              "      <td>0</td>\n",
              "      <td>0</td>\n",
              "      <td>0</td>\n",
              "      <td>0</td>\n",
              "      <td>0</td>\n",
              "      <td>0</td>\n",
              "      <td>0</td>\n",
              "      <td>0</td>\n",
              "      <td>0</td>\n",
              "      <td>0</td>\n",
              "      <td>0</td>\n",
              "      <td>0</td>\n",
              "      <td>0</td>\n",
              "      <td>0</td>\n",
              "      <td>...</td>\n",
              "      <td>147</td>\n",
              "      <td>252</td>\n",
              "      <td>42</td>\n",
              "      <td>0</td>\n",
              "      <td>0</td>\n",
              "      <td>0</td>\n",
              "      <td>0</td>\n",
              "      <td>0</td>\n",
              "      <td>0</td>\n",
              "      <td>0</td>\n",
              "      <td>0</td>\n",
              "      <td>0</td>\n",
              "      <td>0</td>\n",
              "      <td>0</td>\n",
              "      <td>0</td>\n",
              "      <td>0</td>\n",
              "      <td>0</td>\n",
              "      <td>0</td>\n",
              "      <td>0</td>\n",
              "      <td>0</td>\n",
              "      <td>0</td>\n",
              "      <td>0</td>\n",
              "      <td>0</td>\n",
              "      <td>0</td>\n",
              "      <td>0</td>\n",
              "      <td>0</td>\n",
              "      <td>0</td>\n",
              "      <td>0</td>\n",
              "      <td>0</td>\n",
              "      <td>0</td>\n",
              "      <td>0</td>\n",
              "      <td>0</td>\n",
              "      <td>0</td>\n",
              "      <td>0</td>\n",
              "      <td>0</td>\n",
              "      <td>0</td>\n",
              "      <td>0</td>\n",
              "      <td>0</td>\n",
              "      <td>0</td>\n",
              "      <td>0</td>\n",
              "    </tr>\n",
              "  </tbody>\n",
              "</table>\n",
              "<p>5 rows × 785 columns</p>\n",
              "</div>"
            ],
            "text/plain": [
              "   label  1x1  1x2  1x3  1x4  1x5  ...  28x23  28x24  28x25  28x26  28x27  28x28\n",
              "0      5    0    0    0    0    0  ...      0      0      0      0      0      0\n",
              "1      0    0    0    0    0    0  ...      0      0      0      0      0      0\n",
              "2      4    0    0    0    0    0  ...      0      0      0      0      0      0\n",
              "3      1    0    0    0    0    0  ...      0      0      0      0      0      0\n",
              "4      9    0    0    0    0    0  ...      0      0      0      0      0      0\n",
              "\n",
              "[5 rows x 785 columns]"
            ]
          },
          "metadata": {
            "tags": []
          },
          "execution_count": 4
        }
      ]
    },
    {
      "cell_type": "code",
      "metadata": {
        "id": "fnV4_svDm7-Z",
        "colab_type": "code",
        "outputId": "743440fe-43eb-43a3-f5a6-8a119ac2b273",
        "colab": {
          "base_uri": "https://localhost:8080/",
          "height": 35
        }
      },
      "source": [
        "link = 'https://drive.google.com/open?id=1lckyMjuHp0m_xqj1GxfSdfem59AZOFuy'\n",
        "fluff, id = link.split('=')\n",
        "print (id) \n",
        "downloaded = drive.CreateFile({'id':id}) \n",
        "downloaded.GetContentFile('mnist_test.csv')  \n",
        "test = pd.read_csv('mnist_test.csv')"
      ],
      "execution_count": 0,
      "outputs": [
        {
          "output_type": "stream",
          "text": [
            "1lckyMjuHp0m_xqj1GxfSdfem59AZOFuy\n"
          ],
          "name": "stdout"
        }
      ]
    },
    {
      "cell_type": "code",
      "metadata": {
        "id": "KvECmG-gvlBx",
        "colab_type": "code",
        "outputId": "6206fbad-4f42-432d-a4ba-da958152c699",
        "colab": {
          "base_uri": "https://localhost:8080/",
          "height": 291
        }
      },
      "source": [
        "Y_train = train[\"label\"]\n",
        "\n",
        "X_train = train.drop(labels = [\"label\"],axis = 1) \n",
        "\n",
        "del train \n",
        "\n",
        "g = sns.countplot(Y_train)"
      ],
      "execution_count": 0,
      "outputs": [
        {
          "output_type": "display_data",
          "data": {
            "image/png": "[encoded data removed]",
            "text/plain": [
              "<Figure size 432x288 with 1 Axes>"
            ]
          },
          "metadata": {
            "tags": []
          }
        }
      ]
    },
    {
      "cell_type": "code",
      "metadata": {
        "id": "7DMuPda_vpbv",
        "colab_type": "code",
        "colab": {}
      },
      "source": [
        "X_train = X_train / 255.0\n",
        "test = test / 255.0"
      ],
      "execution_count": 0,
      "outputs": []
    },
    {
      "cell_type": "code",
      "metadata": {
        "id": "jg9q-0eCvr5i",
        "colab_type": "code",
        "outputId": "51ddfc7d-289c-41f4-b444-86923b60d588",
        "colab": {
          "base_uri": "https://localhost:8080/",
          "height": 35
        }
      },
      "source": [
        "X_train.shape"
      ],
      "execution_count": 0,
      "outputs": [
        {
          "output_type": "execute_result",
          "data": {
            "text/plain": [
              "(60000, 784)"
            ]
          },
          "metadata": {
            "tags": []
          },
          "execution_count": 8
        }
      ]
    },
    {
      "cell_type": "code",
      "metadata": {
        "id": "NYGXBzkVv4qi",
        "colab_type": "code",
        "outputId": "c3c81d3b-83f6-4f20-b01d-e9e13e09a100",
        "colab": {
          "base_uri": "https://localhost:8080/",
          "height": 35
        }
      },
      "source": [
        "test.shape"
      ],
      "execution_count": 0,
      "outputs": [
        {
          "output_type": "execute_result",
          "data": {
            "text/plain": [
              "(10000, 785)"
            ]
          },
          "metadata": {
            "tags": []
          },
          "execution_count": 9
        }
      ]
    },
    {
      "cell_type": "code",
      "metadata": {
        "id": "hNJBGaQ8v7oB",
        "colab_type": "code",
        "outputId": "dae204c3-51c0-4e4a-c530-bc078d82a769",
        "colab": {
          "base_uri": "https://localhost:8080/",
          "height": 35
        }
      },
      "source": [
        "X_train = X_train.values.reshape(-1,28,28,1)\n",
        "X_train.shape"
      ],
      "execution_count": 0,
      "outputs": [
        {
          "output_type": "execute_result",
          "data": {
            "text/plain": [
              "(60000, 28, 28, 1)"
            ]
          },
          "metadata": {
            "tags": []
          },
          "execution_count": 11
        }
      ]
    },
    {
      "cell_type": "code",
      "metadata": {
        "id": "FVqNyNNBwcZA",
        "colab_type": "code",
        "outputId": "f8b3d7b0-5b06-445e-cb62-85a5e6f08153",
        "colab": {
          "base_uri": "https://localhost:8080/",
          "height": 35
        }
      },
      "source": [
        "Y_train_value = Y_train \n",
        "Y_train = to_categorical(Y_train, num_classes = 10)\n",
        "Y_train.shape"
      ],
      "execution_count": 0,
      "outputs": [
        {
          "output_type": "execute_result",
          "data": {
            "text/plain": [
              "(60000, 10)"
            ]
          },
          "metadata": {
            "tags": []
          },
          "execution_count": 12
        }
      ]
    },
    {
      "cell_type": "code",
      "metadata": {
        "id": "J1frADsuwgyC",
        "colab_type": "code",
        "colab": {}
      },
      "source": [
        "random_seed = 2"
      ],
      "execution_count": 0,
      "outputs": []
    },
    {
      "cell_type": "code",
      "metadata": {
        "id": "nBwvHxfVwkRX",
        "colab_type": "code",
        "outputId": "f0804d6b-8978-4ab7-f3e5-cb69279a7e1d",
        "colab": {
          "base_uri": "https://localhost:8080/",
          "height": 35
        }
      },
      "source": [
        "X_train, X_val, Y_train, Y_val = train_test_split(X_train, Y_train, test_size = 0.1, random_state=random_seed)\n",
        "X_train.shape"
      ],
      "execution_count": 0,
      "outputs": [
        {
          "output_type": "execute_result",
          "data": {
            "text/plain": [
              "(54000, 28, 28, 1)"
            ]
          },
          "metadata": {
            "tags": []
          },
          "execution_count": 14
        }
      ]
    },
    {
      "cell_type": "code",
      "metadata": {
        "id": "wI9YHv2AwnJQ",
        "colab_type": "code",
        "outputId": "d8d50df2-77a5-4138-ae09-7ca9e416567b",
        "colab": {
          "base_uri": "https://localhost:8080/",
          "height": 314
        }
      },
      "source": [
        "plt.figure(figsize=(12,4.8))\n",
        "x, y = 10, 4\n",
        "for i in range(40):  \n",
        "    plt.subplot(y, x, i+1)\n",
        "    plt.imshow(X_train[i].reshape((28,28)),interpolation='nearest')\n",
        "    plt.axis('off')\n",
        "plt.subplots_adjust(wspace=0.1, hspace=0.1)\n",
        "plt.show()"
      ],
      "execution_count": 0,
      "outputs": [
        {
          "output_type": "display_data",
          "data": {
            "image/png": "[encoded data removed]",
            "text/plain": [
              "<Figure size 864x345.6 with 40 Axes>"
            ]
          },
          "metadata": {
            "tags": []
          }
        }
      ]
    },
    {
      "cell_type": "code",
      "metadata": {
        "id": "XOkYLC8_wuiY",
        "colab_type": "code",
        "outputId": "8ff5911f-1996-4781-81b5-01be7ba79e8c",
        "colab": {
          "base_uri": "https://localhost:8080/",
          "height": 688
        }
      },
      "source": [
        "model = Sequential()\n",
        "\n",
        "model.add(Conv2D(filters = 64, kernel_size = (3, 3),strides = (1,1) ,padding = 'valid' ,activation='relu' ,input_shape = (28, 28, 1)))\n",
        "model.add(MaxPool2D(strides=(2,2)))\n",
        "model.add(Conv2D(filters = 64, kernel_size = (3, 3),strides = (1,1) ,padding = 'valid' ,activation='relu'))\n",
        "model.add(MaxPool2D(strides=(2,2)))\n",
        "model.add(Conv2D(filters = 32, kernel_size = (3, 3),strides = (1,1) ,padding = 'valid' ,activation='relu'))\n",
        "model.add(MaxPool2D(strides=(2,2)))\n",
        "\n",
        "\n",
        "model.add(Flatten())\n",
        "model.add(Dense(64, activation='relu'))\n",
        "model.add(Dropout(0.25))\n",
        "model.add(Dense(32, activation='relu'))\n",
        "model.add(Dropout(0.25))\n",
        "model.add(Dense(10, activation='softmax'))\n",
        "model.summary()"
      ],
      "execution_count": 0,
      "outputs": [
        {
          "output_type": "stream",
          "text": [
            "WARNING:tensorflow:From /usr/local/lib/python3.6/dist-packages/tensorflow/python/framework/op_def_library.py:263: colocate_with (from tensorflow.python.framework.ops) is deprecated and will be removed in a future version.\n",
            "Instructions for updating:\n",
            "Colocations handled automatically by placer.\n",
            "WARNING:tensorflow:From /usr/local/lib/python3.6/dist-packages/keras/backend/tensorflow_backend.py:3445: calling dropout (from tensorflow.python.ops.nn_ops) with keep_prob is deprecated and will be removed in a future version.\n",
            "Instructions for updating:\n",
            "Please use `rate` instead of `keep_prob`. Rate should be set to `rate = 1 - keep_prob`.\n",
            "_________________________________________________________________\n",
            "Layer (type)                 Output Shape              Param #   \n",
            "=================================================================\n",
            "conv2d_1 (Conv2D)            (None, 26, 26, 64)        640       \n",
            "_________________________________________________________________\n",
            "max_pooling2d_1 (MaxPooling2 (None, 13, 13, 64)        0         \n",
            "_________________________________________________________________\n",
            "conv2d_2 (Conv2D)            (None, 11, 11, 64)        36928     \n",
            "_________________________________________________________________\n",
            "max_pooling2d_2 (MaxPooling2 (None, 5, 5, 64)          0         \n",
            "_________________________________________________________________\n",
            "conv2d_3 (Conv2D)            (None, 3, 3, 32)          18464     \n",
            "_________________________________________________________________\n",
            "max_pooling2d_3 (MaxPooling2 (None, 1, 1, 32)          0         \n",
            "_________________________________________________________________\n",
            "flatten_1 (Flatten)          (None, 32)                0         \n",
            "_________________________________________________________________\n",
            "dense_1 (Dense)              (None, 64)                2112      \n",
            "_________________________________________________________________\n",
            "dropout_1 (Dropout)          (None, 64)                0         \n",
            "_________________________________________________________________\n",
            "dense_2 (Dense)              (None, 32)                2080      \n",
            "_________________________________________________________________\n",
            "dropout_2 (Dropout)          (None, 32)                0         \n",
            "_________________________________________________________________\n",
            "dense_3 (Dense)              (None, 10)                330       \n",
            "=================================================================\n",
            "Total params: 60,554\n",
            "Trainable params: 60,554\n",
            "Non-trainable params: 0\n",
            "_________________________________________________________________\n"
          ],
          "name": "stdout"
        }
      ]
    },
    {
      "cell_type": "code",
      "metadata": {
        "id": "0MWLKOgozr7v",
        "colab_type": "code",
        "colab": {}
      },
      "source": [
        "sgd = optimizers.SGD(lr=0.01 , momentum=0.5)\n",
        "model.compile(optimizer = sgd , loss = \"categorical_crossentropy\", metrics=[\"accuracy\"])\n"
      ],
      "execution_count": 0,
      "outputs": []
    },
    {
      "cell_type": "code",
      "metadata": {
        "id": "qFlsOqgh08iH",
        "colab_type": "code",
        "colab": {}
      },
      "source": [
        "datagen = ImageDataGenerator(\n",
        "        featurewise_center=True,\n",
        "        featurewise_std_normalization=True,\n",
        "        rotation_range=20,\n",
        "        width_shift_range=0.2,\n",
        "        height_shift_range=0.2,\n",
        "        horizontal_flip=True)\n",
        "\n",
        "datagen.fit(X_train)"
      ],
      "execution_count": 0,
      "outputs": []
    },
    {
      "cell_type": "code",
      "metadata": {
        "id": "ausZarE02EC8",
        "colab_type": "code",
        "outputId": "59f82d37-f688-465d-fb39-68d986b451d1",
        "colab": {
          "base_uri": "https://localhost:8080/",
          "height": 1073
        }
      },
      "source": [
        "history = model.fit_generator(datagen.flow(X_train,Y_train, batch_size=500),\n",
        "                              epochs = 30, validation_data = (X_val,Y_val),\n",
        "                              steps_per_epoch=50)"
      ],
      "execution_count": 0,
      "outputs": [
        {
          "output_type": "stream",
          "text": [
            "Epoch 1/30\n",
            "50/50 [==============================] - 55s 1s/step - loss: 2.0319 - acc: 0.2782 - val_loss: 2.0301 - val_acc: 0.4992\n",
            "Epoch 2/30\n",
            "50/50 [==============================] - 54s 1s/step - loss: 1.9564 - acc: 0.3004 - val_loss: 1.9574 - val_acc: 0.5358\n",
            "Epoch 3/30\n",
            "50/50 [==============================] - 55s 1s/step - loss: 1.8743 - acc: 0.3315 - val_loss: 1.8934 - val_acc: 0.5815\n",
            "Epoch 4/30\n",
            "50/50 [==============================] - 54s 1s/step - loss: 1.7997 - acc: 0.3558 - val_loss: 1.8236 - val_acc: 0.5432\n",
            "Epoch 5/30\n",
            "50/50 [==============================] - 54s 1s/step - loss: 1.7225 - acc: 0.3804 - val_loss: 1.7910 - val_acc: 0.6230\n",
            "Epoch 6/30\n",
            "50/50 [==============================] - 54s 1s/step - loss: 1.6704 - acc: 0.4024 - val_loss: 1.7206 - val_acc: 0.6643\n",
            "Epoch 7/30\n",
            "50/50 [==============================] - 54s 1s/step - loss: 1.6276 - acc: 0.4132 - val_loss: 1.7253 - val_acc: 0.6215\n",
            "Epoch 8/30\n",
            "50/50 [==============================] - 55s 1s/step - loss: 1.5842 - acc: 0.4355 - val_loss: 1.6545 - val_acc: 0.6662\n",
            "Epoch 9/30\n",
            "50/50 [==============================] - 55s 1s/step - loss: 1.5365 - acc: 0.4491 - val_loss: 1.6627 - val_acc: 0.6422\n",
            "Epoch 10/30\n",
            "50/50 [==============================] - 55s 1s/step - loss: 1.5158 - acc: 0.4573 - val_loss: 1.6649 - val_acc: 0.6428\n",
            "Epoch 11/30\n",
            "50/50 [==============================] - 55s 1s/step - loss: 1.4812 - acc: 0.4717 - val_loss: 1.5967 - val_acc: 0.6850\n",
            "Epoch 12/30\n",
            "50/50 [==============================] - 54s 1s/step - loss: 1.4519 - acc: 0.4859 - val_loss: 1.5535 - val_acc: 0.6948\n",
            "Epoch 13/30\n",
            "50/50 [==============================] - 54s 1s/step - loss: 1.4468 - acc: 0.4887 - val_loss: 1.7295 - val_acc: 0.5283\n",
            "Epoch 14/30\n",
            "50/50 [==============================] - 54s 1s/step - loss: 1.4050 - acc: 0.5029 - val_loss: 1.5263 - val_acc: 0.6877\n",
            "Epoch 15/30\n",
            "50/50 [==============================] - 55s 1s/step - loss: 1.3870 - acc: 0.5076 - val_loss: 1.5483 - val_acc: 0.6953\n",
            "Epoch 16/30\n",
            "50/50 [==============================] - 55s 1s/step - loss: 1.3740 - acc: 0.5160 - val_loss: 1.6058 - val_acc: 0.6012\n",
            "Epoch 17/30\n",
            "50/50 [==============================] - 55s 1s/step - loss: 1.3445 - acc: 0.5218 - val_loss: 1.5456 - val_acc: 0.6475\n",
            "Epoch 18/30\n",
            "50/50 [==============================] - 54s 1s/step - loss: 1.3028 - acc: 0.5395 - val_loss: 1.5851 - val_acc: 0.5825\n",
            "Epoch 19/30\n",
            "50/50 [==============================] - 55s 1s/step - loss: 1.3310 - acc: 0.5355 - val_loss: 1.5832 - val_acc: 0.5737\n",
            "Epoch 20/30\n",
            "50/50 [==============================] - 54s 1s/step - loss: 1.2821 - acc: 0.5486 - val_loss: 1.4445 - val_acc: 0.7283\n",
            "Epoch 21/30\n",
            "50/50 [==============================] - 54s 1s/step - loss: 1.2785 - acc: 0.5521 - val_loss: 1.4713 - val_acc: 0.7163\n",
            "Epoch 22/30\n",
            "50/50 [==============================] - 54s 1s/step - loss: 1.2631 - acc: 0.5559 - val_loss: 1.4512 - val_acc: 0.6972\n",
            "Epoch 23/30\n",
            "50/50 [==============================] - 54s 1s/step - loss: 1.2161 - acc: 0.5723 - val_loss: 1.4718 - val_acc: 0.6772\n",
            "Epoch 24/30\n",
            "50/50 [==============================] - 54s 1s/step - loss: 1.2238 - acc: 0.5758 - val_loss: 1.6228 - val_acc: 0.4990\n",
            "Epoch 25/30\n",
            "50/50 [==============================] - 54s 1s/step - loss: 1.2031 - acc: 0.5805 - val_loss: 1.4738 - val_acc: 0.6100\n",
            "Epoch 26/30\n",
            "50/50 [==============================] - 54s 1s/step - loss: 1.1863 - acc: 0.5866 - val_loss: 1.4495 - val_acc: 0.6500\n",
            "Epoch 27/30\n",
            "50/50 [==============================] - 54s 1s/step - loss: 1.1691 - acc: 0.5946 - val_loss: 1.3966 - val_acc: 0.6878\n",
            "Epoch 28/30\n",
            "50/50 [==============================] - 55s 1s/step - loss: 1.1737 - acc: 0.5957 - val_loss: 1.3908 - val_acc: 0.7050\n",
            "Epoch 29/30\n",
            "50/50 [==============================] - 55s 1s/step - loss: 1.1513 - acc: 0.5952 - val_loss: 1.4137 - val_acc: 0.6390\n",
            "Epoch 30/30\n",
            "50/50 [==============================] - 55s 1s/step - loss: 1.1524 - acc: 0.5993 - val_loss: 1.3943 - val_acc: 0.6735\n"
          ],
          "name": "stdout"
        }
      ]
    },
    {
      "cell_type": "code",
      "metadata": {
        "id": "KkvFjNIK59VM",
        "colab_type": "code",
        "outputId": "b430cb90-9281-4a29-ca4a-c6c946b8bf5b",
        "colab": {
          "base_uri": "https://localhost:8080/",
          "height": 274
        }
      },
      "source": [
        " fig, ax = plt.subplots(2,1)\n",
        "ax[0].plot(history.history['val_loss'], color='r', label=\"validation loss\",axes =ax[0])\n",
        "legend = ax[0].legend(loc='best', shadow=True)\n",
        "\n",
        "ax[1].plot(history.history['val_acc'], color='r',label=\"Validation accuracy\")\n",
        "legend = ax[1].legend(loc='best', shadow=True)"
      ],
      "execution_count": 0,
      "outputs": [
        {
          "output_type": "display_data",
          "data": {
            "image/png": "[encoded data removed]",
            "text/plain": [
              "<Figure size 432x288 with 2 Axes>"
            ]
          },
          "metadata": {
            "tags": []
          }
        }
      ]
    },
    {
      "cell_type": "code",
      "metadata": {
        "id": "TE14HWH76CNX",
        "colab_type": "code",
        "outputId": "bc2ade51-0ad6-49e0-9ed8-dbf9ce138689",
        "colab": {
          "base_uri": "https://localhost:8080/",
          "height": 310
        }
      },
      "source": [
        "\n",
        "def plot_confusion_matrix(cm, classes,\n",
        "                          normalize=False,\n",
        "                          title='Confusion matrix',\n",
        "                          cmap=plt.cm.Blues):\n",
        "\n",
        "    plt.imshow(cm, interpolation='nearest', cmap=cmap)\n",
        "    plt.title(title)\n",
        "    plt.colorbar()\n",
        "    tick_marks = np.arange(len(classes))\n",
        "    plt.xticks(tick_marks, classes, rotation=45)\n",
        "    plt.yticks(tick_marks, classes)\n",
        "\n",
        "    if normalize:\n",
        "        cm = cm.astype('float') / cm.sum(axis=1)[:, np.newaxis]\n",
        "\n",
        "    thresh = cm.max() / 2.\n",
        "    for i, j in itertools.product(range(cm.shape[0]), range(cm.shape[1])):\n",
        "        plt.text(j, i, cm[i, j],\n",
        "                 horizontalalignment=\"center\",\n",
        "                 color=\"white\" if cm[i, j] > thresh else \"black\")\n",
        "\n",
        "    plt.tight_layout()\n",
        "    plt.ylabel('True label')\n",
        "    plt.xlabel('Predicted label')\n",
        "\n",
        "# Predict the values from the validation dataset\n",
        "Y_pred = model.predict(X_val)\n",
        "# Convert predictions classes to one hot vectors \n",
        "Y_pred_classes = np.argmax(Y_pred,axis = 1) \n",
        "# Convert validation observations to one hot vectors\n",
        "Y_true = np.argmax(Y_val,axis = 1) \n",
        "# compute the confusion matrix\n",
        "confusion_mtx = confusion_matrix(Y_true, Y_pred_classes) \n",
        "# plot the confusion matrix\n",
        "plot_confusion_matrix(confusion_mtx, classes = range(10)) "
      ],
      "execution_count": 0,
      "outputs": [
        {
          "output_type": "display_data",
          "data": {
            "image/png": "[encoded data removed]",
            "text/plain": [
              "<Figure size 432x288 with 2 Axes>"
            ]
          },
          "metadata": {
            "tags": []
          }
        }
      ]
    },
    {
      "cell_type": "code",
      "metadata": {
        "id": "HWxKLf-y6Q0I",
        "colab_type": "code",
        "colab": {}
      },
      "source": [
        "errors = (Y_pred_classes - Y_true != 0)\n",
        "\n",
        "Y_pred_classes_errors = Y_pred_classes[errors]\n",
        "Y_pred_errors = Y_pred[errors]\n",
        "Y_true_errors = Y_true[errors]\n",
        "X_val_errors = X_val[errors]\n",
        "\n",
        "def display_errors(errors_index,img_errors,pred_errors, obs_errors):\n",
        "    n = 0\n",
        "    nrows = 3\n",
        "    ncols = 3\n",
        "    fig, ax = plt.subplots(nrows,ncols,sharex=True,sharey=True, figsize=(7,7))\n",
        "    plt.subplots_adjust(wspace=0.5, hspace=0.5)\n",
        "    for row in range(nrows):\n",
        "        for col in range(ncols):\n",
        "            error = errors_index[n]\n",
        "            ax[row,col].imshow((img_errors[error]).reshape((28,28)))\n",
        "            ax[row,col].set_title(\"Predicted label :{}\\nTrue label :{}\".format(pred_errors[error],obs_errors[error]))\n",
        "            n += 1\n",
        "\n",
        "# Probabilities of the wrong predicted numbers\n",
        "Y_pred_errors_prob = np.max(Y_pred_errors,axis = 1)\n",
        "\n",
        "# Predicted probabilities of the true values in the error set\n",
        "true_prob_errors = np.diagonal(np.take(Y_pred_errors, Y_true_errors, axis=1))\n",
        "\n",
        "# Difference between the probability of the predicted label and the true label\n",
        "delta_pred_true_errors = Y_pred_errors_prob - true_prob_errors\n",
        "\n",
        "# Sorted list of the delta prob errors\n",
        "sorted_dela_errors = np.argsort(delta_pred_true_errors)\n",
        "\n",
        "# Top 9 errors \n",
        "most_important_errors = sorted_dela_errors[-9:]\n",
        "\n",
        "# Show the top 6 errors\n",
        "display_errors(most_important_errors, X_val_errors, Y_pred_classes_errors, Y_true_errors)"
      ],
      "execution_count": 0,
      "outputs": []
    },
    {
      "cell_type": "code",
      "metadata": {
        "id": "1tLwA0-X6ifY",
        "colab_type": "code",
        "colab": {}
      },
      "source": [
        "annealer = LearningRateScheduler(lambda x: 1e-3 * 0.9 ** x)\n",
        "\n",
        "history = model.fit_generator(datagen.flow(X_train,Y_train, batch_size=500),\n",
        "                              epochs = 10, validation_data = (X_val,Y_val),\n",
        "                              steps_per_epoch = 10,\n",
        "                              callbacks=[annealer])"
      ],
      "execution_count": 0,
      "outputs": []
    },
    {
      "cell_type": "code",
      "metadata": {
        "id": "K9xb_Tlt8M0I",
        "colab_type": "code",
        "colab": {}
      },
      "source": [
        "# Plot the loss and accuracy curves for training and validation \n",
        "fig, ax = plt.subplots(2,1)\n",
        "#ax[0].plot(history.history['loss'], color='b', label=\"Training loss\")\n",
        "ax[0].plot(history.history['val_loss'], color='r', label=\"validation loss\",axes =ax[0])\n",
        "legend = ax[0].legend(loc='best', shadow=True)\n",
        "\n",
        "#ax[1].plot(history.history['acc'], color='b', label=\"Training accuracy\")\n",
        "ax[1].plot(history.history['val_acc'], color='r',label=\"Validation accuracy\")\n",
        "legend = ax[1].legend(loc='best', shadow=True)"
      ],
      "execution_count": 0,
      "outputs": []
    },
    {
      "cell_type": "code",
      "metadata": {
        "id": "GMTyBS1x6i3A",
        "colab_type": "code",
        "colab": {}
      },
      "source": [
        "layer1 = model.layers[0]\n",
        "layer1.name\n",
        "conv2d_1w = layer1.get_weights()[0][:,:,0,:]\n",
        "for i in range(1,17):\n",
        "      plt.subplot(4,4,i)\n",
        "      plt.imshow(conv2d_1w[:,:,i-1],interpolation=\"nearest\",cmap=\"gray\")\n",
        "plt.show()"
      ],
      "execution_count": 0,
      "outputs": []
    },
    {
      "cell_type": "code",
      "metadata": {
        "id": "jpGd3YD-6oBX",
        "colab_type": "code",
        "colab": {}
      },
      "source": [
        "# visualize convolution and pool layer\n",
        "test_im = X_train[2]\n",
        "plt.imshow(test_im.reshape(28,28), cmap='viridis', interpolation='none')\n",
        "\n",
        "# activation output\n",
        "layer_outputs = [layer.output for layer in model.layers[:12]]\n",
        "activation_model = models.Model(input=model.input, output=layer_outputs)\n",
        "activations = activation_model.predict(test_im.reshape(1,28,28,1))\n",
        "\n",
        "layer_names = []\n",
        "for layer in model.layers:\n",
        "    layer_names.append(layer.name) \n",
        "images_per_row = 4\n",
        "for layer_name, layer_activation in zip(layer_names[:12], activations):\n",
        "    #if layer_name.startswith('conv'):\n",
        "        n_features = layer_activation.shape[-1]\n",
        "        size = layer_activation.shape[1]\n",
        "        n_cols = n_features // images_per_row\n",
        "        display_grid = np.zeros((size * n_cols, images_per_row * size))\n",
        "        for col in range(n_cols):\n",
        "            for row in range(images_per_row):\n",
        "                channel_image = layer_activation[0,:, :, col * images_per_row + row]\n",
        "                channel_image -= channel_image.mean()\n",
        "                channel_image /= channel_image.std()\n",
        "                channel_image *= 64\n",
        "                channel_image += 128\n",
        "                channel_image = np.clip(channel_image, 0, 255).astype('uint8')\n",
        "                display_grid[col * size : (col + 1) * size,\n",
        "                             row * size : (row + 1) * size] = channel_image\n",
        "        scale = 1. / size\n",
        "        plt.figure(figsize=(scale * display_grid.shape[1],\n",
        "                            scale * display_grid.shape[0]))\n",
        "        plt.title(layer_name, fontsize = 20)\n",
        "        plt.grid(False)\n",
        "        plt.imshow(display_grid, aspect='auto', cmap='viridis')"
      ],
      "execution_count": 0,
      "outputs": []
    }
  ]
}